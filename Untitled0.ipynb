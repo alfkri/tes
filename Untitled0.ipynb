{
  "nbformat": 4,
  "nbformat_minor": 0,
  "metadata": {
    "colab": {
      "provenance": []
    },
    "kernelspec": {
      "name": "python3",
      "display_name": "Python 3"
    },
    "language_info": {
      "name": "python"
    }
  },
  "cells": [
    {
      "cell_type": "code",
      "execution_count": null,
      "metadata": {
        "colab": {
          "base_uri": "https://localhost:8080/"
        },
        "id": "OrI0P2BNg6V8",
        "outputId": "fba649cb-731d-4dfa-dfca-f933b5927bd5"
      },
      "outputs": [
        {
          "output_type": "stream",
          "name": "stdout",
          "text": [
            "951\n",
            "651\n",
            "69\n",
            "319\n",
            "601\n",
            "485\n",
            "507\n",
            "725\n",
            "547\n",
            "615\n",
            "83\n",
            "165\n",
            "141\n",
            "501\n",
            "263\n",
            "617\n",
            "865\n",
            "575\n",
            "219\n",
            "105\n",
            "941\n",
            "47\n",
            "907\n",
            "375\n",
            "823\n",
            "597\n",
            "615\n",
            "953\n",
            "345\n",
            "399\n",
            "219\n",
            "237\n",
            "949\n",
            "687\n",
            "217\n",
            "815\n",
            "67\n",
            "767\n",
            "553\n"
          ]
        }
      ],
      "source": [
        "numbers = [\n",
        "951,402,984, 651, 360, 69, 408, 319, 601, 485, 980, 507, 725, 547,544, 615, 83, 165, 141, 501, 263, 617, 865, 575, 219, 390, 984, 592, 236, 105, 942, 941, 386, 462, 47, 418, 907, 344, 236, 375,823,566, 597, 978, 328, 615, 953, 345, 399, 162, 758,219, 918, 237, 412, 566, 826, 248, 866, 950, 626, 949, 687, 217, 815, 67, 104, 58, 512, 24, 892, 894, 767, 553, 81, 379, 843, 831, 445, 742, 717, 958, 609, 842, 451, 688, 753, 854, 685, 93, 857, 440, 380, 126, 721, 328, 753, 470, 743,527\n",
        "]\n",
        "index = 0\n",
        "\n",
        "while index <= len(numbers):\n",
        "  if numbers[index] % 2:\n",
        "    print(numbers[index])\n",
        "  if numbers[index] == 553:\n",
        "    break\n",
        "  index+=1\n"
      ]
    },
    {
      "cell_type": "code",
      "source": [
        "for i in range(1,int(input())):\n",
        "  for j in range(i):\n",
        "    print(\"*\", end=\" \")\n",
        "  print()"
      ],
      "metadata": {
        "colab": {
          "base_uri": "https://localhost:8080/"
        },
        "id": "NXf7e7fmsIXL",
        "outputId": "e48094bc-4bfd-4192-c97f-f948cd89b663"
      },
      "execution_count": 47,
      "outputs": [
        {
          "output_type": "stream",
          "name": "stdout",
          "text": [
            "4\n",
            "* \n",
            "* * \n",
            "* * * \n"
          ]
        }
      ]
    },
    {
      "cell_type": "code",
      "source": [
        "for m in range(0,int(input())):\n",
        "  for p in range(0,m+1):\n",
        "    print(\"*\", end=\" \")\n",
        "  print()"
      ],
      "metadata": {
        "colab": {
          "base_uri": "https://localhost:8080/"
        },
        "id": "flkce9BL4JI0",
        "outputId": "599e5713-2f76-46d8-9f49-ef4287c9a717"
      },
      "execution_count": 46,
      "outputs": [
        {
          "output_type": "stream",
          "name": "stdout",
          "text": [
            "4\n",
            "* \n",
            "* * \n",
            "* * * \n",
            "* * * * \n"
          ]
        }
      ]
    },
    {
      "cell_type": "code",
      "source": [
        "index=['*','* *','* * *','* * * *']\n",
        "for i in range(len(index)):\n",
        "  print(index[i])"
      ],
      "metadata": {
        "colab": {
          "base_uri": "https://localhost:8080/"
        },
        "id": "jGAN1_4Alt1d",
        "outputId": "02c1bdd3-dd0d-495e-822d-444c4759a61c"
      },
      "execution_count": null,
      "outputs": [
        {
          "output_type": "stream",
          "name": "stdout",
          "text": [
            "*\n",
            "* *\n",
            "* * *\n",
            "* * * *\n"
          ]
        }
      ]
    },
    {
      "cell_type": "code",
      "source": [
        "i = 100\n",
        "while i > 1:\n",
        "  print(\"STT Terpadu Nurul Fikri\")\n",
        "  i = i - 1"
      ],
      "metadata": {
        "colab": {
          "base_uri": "https://localhost:8080/"
        },
        "id": "CjOW6rv_h7Ff",
        "outputId": "84090dd9-1fcc-4309-afb5-d33024f5163b"
      },
      "execution_count": 3,
      "outputs": [
        {
          "output_type": "stream",
          "name": "stdout",
          "text": [
            "STT Terpadu Nurul Fikri\n",
            "STT Terpadu Nurul Fikri\n",
            "STT Terpadu Nurul Fikri\n",
            "STT Terpadu Nurul Fikri\n",
            "STT Terpadu Nurul Fikri\n",
            "STT Terpadu Nurul Fikri\n",
            "STT Terpadu Nurul Fikri\n",
            "STT Terpadu Nurul Fikri\n",
            "STT Terpadu Nurul Fikri\n",
            "STT Terpadu Nurul Fikri\n",
            "STT Terpadu Nurul Fikri\n",
            "STT Terpadu Nurul Fikri\n",
            "STT Terpadu Nurul Fikri\n",
            "STT Terpadu Nurul Fikri\n",
            "STT Terpadu Nurul Fikri\n",
            "STT Terpadu Nurul Fikri\n",
            "STT Terpadu Nurul Fikri\n",
            "STT Terpadu Nurul Fikri\n",
            "STT Terpadu Nurul Fikri\n",
            "STT Terpadu Nurul Fikri\n",
            "STT Terpadu Nurul Fikri\n",
            "STT Terpadu Nurul Fikri\n",
            "STT Terpadu Nurul Fikri\n",
            "STT Terpadu Nurul Fikri\n",
            "STT Terpadu Nurul Fikri\n",
            "STT Terpadu Nurul Fikri\n",
            "STT Terpadu Nurul Fikri\n",
            "STT Terpadu Nurul Fikri\n",
            "STT Terpadu Nurul Fikri\n",
            "STT Terpadu Nurul Fikri\n",
            "STT Terpadu Nurul Fikri\n",
            "STT Terpadu Nurul Fikri\n",
            "STT Terpadu Nurul Fikri\n",
            "STT Terpadu Nurul Fikri\n",
            "STT Terpadu Nurul Fikri\n",
            "STT Terpadu Nurul Fikri\n",
            "STT Terpadu Nurul Fikri\n",
            "STT Terpadu Nurul Fikri\n",
            "STT Terpadu Nurul Fikri\n",
            "STT Terpadu Nurul Fikri\n",
            "STT Terpadu Nurul Fikri\n",
            "STT Terpadu Nurul Fikri\n",
            "STT Terpadu Nurul Fikri\n",
            "STT Terpadu Nurul Fikri\n",
            "STT Terpadu Nurul Fikri\n",
            "STT Terpadu Nurul Fikri\n",
            "STT Terpadu Nurul Fikri\n",
            "STT Terpadu Nurul Fikri\n",
            "STT Terpadu Nurul Fikri\n",
            "STT Terpadu Nurul Fikri\n",
            "STT Terpadu Nurul Fikri\n",
            "STT Terpadu Nurul Fikri\n",
            "STT Terpadu Nurul Fikri\n",
            "STT Terpadu Nurul Fikri\n",
            "STT Terpadu Nurul Fikri\n",
            "STT Terpadu Nurul Fikri\n",
            "STT Terpadu Nurul Fikri\n",
            "STT Terpadu Nurul Fikri\n",
            "STT Terpadu Nurul Fikri\n",
            "STT Terpadu Nurul Fikri\n",
            "STT Terpadu Nurul Fikri\n",
            "STT Terpadu Nurul Fikri\n",
            "STT Terpadu Nurul Fikri\n",
            "STT Terpadu Nurul Fikri\n",
            "STT Terpadu Nurul Fikri\n",
            "STT Terpadu Nurul Fikri\n",
            "STT Terpadu Nurul Fikri\n",
            "STT Terpadu Nurul Fikri\n",
            "STT Terpadu Nurul Fikri\n",
            "STT Terpadu Nurul Fikri\n",
            "STT Terpadu Nurul Fikri\n",
            "STT Terpadu Nurul Fikri\n",
            "STT Terpadu Nurul Fikri\n",
            "STT Terpadu Nurul Fikri\n",
            "STT Terpadu Nurul Fikri\n",
            "STT Terpadu Nurul Fikri\n",
            "STT Terpadu Nurul Fikri\n",
            "STT Terpadu Nurul Fikri\n",
            "STT Terpadu Nurul Fikri\n",
            "STT Terpadu Nurul Fikri\n",
            "STT Terpadu Nurul Fikri\n",
            "STT Terpadu Nurul Fikri\n",
            "STT Terpadu Nurul Fikri\n",
            "STT Terpadu Nurul Fikri\n",
            "STT Terpadu Nurul Fikri\n",
            "STT Terpadu Nurul Fikri\n",
            "STT Terpadu Nurul Fikri\n",
            "STT Terpadu Nurul Fikri\n",
            "STT Terpadu Nurul Fikri\n",
            "STT Terpadu Nurul Fikri\n",
            "STT Terpadu Nurul Fikri\n",
            "STT Terpadu Nurul Fikri\n",
            "STT Terpadu Nurul Fikri\n",
            "STT Terpadu Nurul Fikri\n",
            "STT Terpadu Nurul Fikri\n",
            "STT Terpadu Nurul Fikri\n",
            "STT Terpadu Nurul Fikri\n",
            "STT Terpadu Nurul Fikri\n",
            "STT Terpadu Nurul Fikri\n"
          ]
        }
      ]
    },
    {
      "cell_type": "code",
      "source": [
        "for number in range(100,0,-2):\n",
        "  print(number)"
      ],
      "metadata": {
        "colab": {
          "base_uri": "https://localhost:8080/"
        },
        "id": "VSYm4-8Bl-RQ",
        "outputId": "083a7a43-01ad-426a-9c61-28b142b49725"
      },
      "execution_count": 15,
      "outputs": [
        {
          "output_type": "stream",
          "name": "stdout",
          "text": [
            "100\n",
            "98\n",
            "96\n",
            "94\n",
            "92\n",
            "90\n",
            "88\n",
            "86\n",
            "84\n",
            "82\n",
            "80\n",
            "78\n",
            "76\n",
            "74\n",
            "72\n",
            "70\n",
            "68\n",
            "66\n",
            "64\n",
            "62\n",
            "60\n",
            "58\n",
            "56\n",
            "54\n",
            "52\n",
            "50\n",
            "48\n",
            "46\n",
            "44\n",
            "42\n",
            "40\n",
            "38\n",
            "36\n",
            "34\n",
            "32\n",
            "30\n",
            "28\n",
            "26\n",
            "24\n",
            "22\n",
            "20\n",
            "18\n",
            "16\n",
            "14\n",
            "12\n",
            "10\n",
            "8\n",
            "6\n",
            "4\n",
            "2\n"
          ]
        }
      ]
    },
    {
      "cell_type": "code",
      "source": [
        "numbers = [951,402,984, 651, 360, 69, 408, 319, 601, 485, 980, 507, 725, 547,544, 615, 83, 165, 141, 501, 263, 617, 865, 575, 219, 390, 984, 592, 236, 105, 942, 941, 386, 462, 47, 418, 907, 344, 236, 375,823,566, 597, 978, 328, 615, 953, 345, 399, 162, 758,219, 918, 237, 412, 566, 826, 248, 866, 950, 626, 949, 687, 217, 815, 67, 104, 58, 512, 24, 892, 894, 767, 553, 81, 379, 843, 831, 445, 742, 717, 958, 609, 842, 451, 688, 753, 854, 685, 93, 857, 440, 380, 126, 721, 328, 753, 470, 743,527\n",
        "]\n",
        "i = 0\n",
        "while i <= len(numbers):\n",
        "  if numbers[i] % 2:\n",
        "    print(numbers[i])\n",
        "  if numbers[i] == 553:\n",
        "    break\n",
        "  i+=1\n"
      ],
      "metadata": {
        "colab": {
          "base_uri": "https://localhost:8080/"
        },
        "id": "7Pqlbn9ourVb",
        "outputId": "4001c631-f0da-44aa-b5d9-45c7100ec5ea"
      },
      "execution_count": 20,
      "outputs": [
        {
          "output_type": "stream",
          "name": "stdout",
          "text": [
            "951\n",
            "651\n",
            "69\n",
            "319\n",
            "601\n",
            "485\n",
            "507\n",
            "725\n",
            "547\n",
            "615\n",
            "83\n",
            "165\n",
            "141\n",
            "501\n",
            "263\n",
            "617\n",
            "865\n",
            "575\n",
            "219\n",
            "105\n",
            "941\n",
            "47\n",
            "907\n",
            "375\n",
            "823\n",
            "597\n",
            "615\n",
            "953\n",
            "345\n",
            "399\n",
            "219\n",
            "237\n",
            "949\n",
            "687\n",
            "217\n",
            "815\n",
            "67\n",
            "767\n",
            "553\n"
          ]
        }
      ]
    },
    {
      "cell_type": "code",
      "source": [
        "x = 0\n",
        "for i in range(1,20,2):\n",
        "  x = x + i\n",
        "print(x)\n"
      ],
      "metadata": {
        "colab": {
          "base_uri": "https://localhost:8080/"
        },
        "id": "IvkVH2Ah0QCJ",
        "outputId": "356745ab-f9ac-4bcf-deeb-b78597cff364"
      },
      "execution_count": 39,
      "outputs": [
        {
          "output_type": "stream",
          "name": "stdout",
          "text": [
            "100\n"
          ]
        }
      ]
    }
  ]
}